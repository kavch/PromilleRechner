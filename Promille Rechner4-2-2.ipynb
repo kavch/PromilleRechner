{
 "cells": [
  {
   "cell_type": "markdown",
   "metadata": {},
   "source": [
    "# **WARNING!**\n",
    "\n",
    "*We do not support* underage drinking, excessive drinking, binge drinking or any other unsafe drinking behavior.\n",
    "\n",
    "We do not take any responisbility for the information provided and the actions you take! \n",
    "\n",
    "### This programm is ment for educational purposes and not for the exact prediction of the users alkohol level or reduction of said alkohol level."
   ]
  },
  {
   "cell_type": "code",
   "execution_count": 3,
   "metadata": {},
   "outputs": [
    {
     "name": "stdout",
     "output_type": "stream",
     "text": [
      "Enter your name:d\n",
      "\n",
      "Hello d ! How old are you?\n",
      "\n",
      "Please enter your age:22\n",
      "\n",
      "You can now use the Promille Claculator, Alcohol Reduction Calculator and other educational tools\n"
     ]
    }
   ],
   "source": [
    "name = input (\"Enter your name:\")\n",
    "print(\"\")\n",
    "print(\"Hello\",name, \"! How old are you?\")\n",
    "print(\"\")\n",
    "\n",
    "age = int(input('Please enter your age:'))\n",
    "if age<16:\n",
    "    print(\"\")\n",
    "    print (name,\"you should not drink alcohol!\")\n",
    "    print(\"\")\n",
    "    print(\"Goodbye!\")\n",
    "    exit()\n",
    "    \n",
    "else: \n",
    "    print(\"\")\n",
    "    print (\"You can now use the Promille Claculator, Alcohol Reduction Calculator and other educational tools\")"
   ]
  },
  {
   "cell_type": "markdown",
   "metadata": {},
   "source": [
    "# **Promille Calculator**"
   ]
  },
  {
   "cell_type": "code",
   "execution_count": 9,
   "metadata": {},
   "outputs": [
    {
     "ename": "SyntaxError",
     "evalue": "invalid syntax (<ipython-input-9-175c7d3f1a7b>, line 23)",
     "output_type": "error",
     "traceback": [
      "\u001b[0;36m  File \u001b[0;32m\"<ipython-input-9-175c7d3f1a7b>\"\u001b[0;36m, line \u001b[0;32m23\u001b[0m\n\u001b[0;31m    result = interact(calculate2, Gender=widgets.Dropdown(options=[('Male', 0.7), ('Female', 0.6)]), Weight=weightcontrol, Beer=(min=0,max=5),Wine=(0,5),Shot=(0,10))\u001b[0m\n\u001b[0m                                                                                                                                    ^\u001b[0m\n\u001b[0;31mSyntaxError\u001b[0m\u001b[0;31m:\u001b[0m invalid syntax\n"
     ]
    }
   ],
   "source": [
    "from ipywidgets import interact\n",
    "import ipywidgets as widgets\n",
    "import math\n",
    "\n",
    "\n",
    "    \n",
    "def calculate1(Gender, Weight, Beer, Wine):\n",
    "    alkgramm = (10*Beer*0.33*5*0.8)+(10*Wine*0.25*12*0.8)\n",
    "    promille = round(alkgramm/(Gender*Weight),2)\n",
    "    resultText = \"You have \" + str(promille) + \" promille\"\n",
    "    return resultText\n",
    "   \n",
    "def calculate2(Gender, Weight, Beer, Wine,Shot):\n",
    "    alkgramm = (10*Beer*0.33*5*0.8)+(10*Wine*0.25*12*0.8)+(10*Shot*0.02*40*0.8)\n",
    "    promille = round(alkgramm/(Gender*Weight),2)\n",
    "    resultText = \"You have \" + str(promille) + \" promille\"\n",
    "    return resultText\n",
    "\n",
    "weightcontrol = widgets.IntSlider(min=40,max=150)\n",
    "if age<18:\n",
    "    result = interact(calculate1, Gender=widgets.Dropdown(options=[('Male', 0.7), ('Female', 0.6)]), Weight=weightcontrol, Beer=(0,5),Wine=(0,5))\n",
    "else:\n",
    "    result = interact(calculate2, Gender=widgets.Dropdown(options=[('Male', 0.7), ('Female', 0.6)]), Weight=weightcontrol, Beer=(=0,=5),Wine=(0,5),Shot=(0,10))\n",
    "\n",
    "\n"
   ]
  },
  {
   "cell_type": "markdown",
   "metadata": {},
   "source": [
    "# **Alcohol Reduction Claculator**"
   ]
  },
  {
   "cell_type": "code",
   "execution_count": null,
   "metadata": {},
   "outputs": [
    {
     "name": "stdout",
     "output_type": "stream",
     "text": [
      "If you want to know more about alkohol consumption enter your promille result\n"
     ]
    }
   ],
   "source": [
    "print(\"If you want to know more about alkohol consumption enter your promille result\")\n",
    "alk = input (\"Enter your promille:\")\n",
    "\n",
    "from decimal import Decimal\n",
    "\n",
    "\n",
    "\n",
    "count = 0\n",
    "while alk >=0.02 :\n",
    "    print(str(alk) + \" Promille\")\n",
    "    alk = round((alk*0.7),2)   \n",
    "    count += 1\n",
    "print(\"You have 0 Promille\")\n",
    "print(\"This will be in {} hours\".format(count))"
   ]
  },
  {
   "cell_type": "code",
   "execution_count": null,
   "metadata": {},
   "outputs": [],
   "source": [
    "!pip install pandas"
   ]
  },
  {
   "cell_type": "code",
   "execution_count": null,
   "metadata": {},
   "outputs": [],
   "source": [
    "import pandas as pd\n",
    "import numpy as  np"
   ]
  },
  {
   "cell_type": "code",
   "execution_count": null,
   "metadata": {},
   "outputs": [],
   "source": [
    "df=pd.read_csv(\"Grenzwert.csv\")\n",
    "\n"
   ]
  },
  {
   "cell_type": "code",
   "execution_count": null,
   "metadata": {},
   "outputs": [],
   "source": [
    "df.head(20).style.set_table_styles(\n",
    "[{'selector': 'th',\n",
    "  'props': [('background', '#4bb8b0'), \n",
    "            ('color', 'white'),\n",
    "            ('font-family', 'verdana')]},\n",
    " \n",
    " {'selector': 'td',\n",
    "  'props': [('font-family', 'verdana')]},\n",
    "\n",
    " {'selector': 'tr:nth-of-type(odd)',\n",
    "  'props': [('background', '#DCDCDC')]}, \n",
    " \n",
    " {'selector': 'tr:nth-of-type(even)',\n",
    "  'props': [('background', 'white')]},\n",
    " \n",
    " {'selector': 'tr:hover',\n",
    "  'props': [('background-color', 'yellow')]}\n",
    " ]\n",
    ").hide_index()"
   ]
  },
  {
   "cell_type": "code",
   "execution_count": null,
   "metadata": {},
   "outputs": [],
   "source": []
  },
  {
   "cell_type": "code",
   "execution_count": null,
   "metadata": {},
   "outputs": [],
   "source": [
    "\n",
    "print(\"If you want to know more about alkohol reduction enter your promille result\")\n",
    "print(\"\")\n",
    "alk = float(input (\"Enter your promille:\"))\n",
    "print(\"\")\n",
    "\n",
    "\n",
    "from decimal import Decimal\n",
    "\n",
    "\n",
    "\n",
    "count = 0\n",
    "while alk >=0.02 :\n",
    "    if count<1:\n",
    "        print(str(alk) + \" Promille after\",count,\"hours\")\n",
    "    elif count<2:\n",
    "        print(str(alk) + \" Promille after\",count,\"hour\")\n",
    "    else:print(str(alk) + \" Promille after\",count,\"hours\")\n",
    "    alk = round((alk*0.7),2)  \n",
    "       \n",
    "    count += 1\n",
    "    \n",
    "print(\"\")\n",
    "\n",
    "\n",
    "print(\"You now have 0 Promille.\")\n",
    "print(\"\")\n",
    "\n",
    "\n",
    "print(\"This will be in {} hours\".format(count))"
   ]
  },
  {
   "cell_type": "code",
   "execution_count": null,
   "metadata": {},
   "outputs": [],
   "source": [
    "from __future__ import print_function\n",
    "from ipywidgets import interact, interactive, fixed, interact_manual\n",
    "import ipywidgets as widgets\n",
    "from IPython.display import display,Markdown\n",
    "from decimal import Decimal\n",
    "\n",
    "def f(Beer, Wine,Weight,Gender):\n",
    "    current=round(((Beer*0.33*5*10*0.8 + Wine*0.25*12*10*0.8))/(Weight*Gender),2)\n",
    "    display(\"You have \"+str(current)+(\" promille\"))\n",
    "\n",
    "    \n",
    "    \n",
    "weightcontrol = widgets.IntSlider(min=40,max=150)\n",
    "beercontrol = widgets.IntSlider(min=0,max=10)\n",
    "winecontrol = widgets.IntSlider(min=0,max=10)\n",
    "w = interactive(f,Gender=[(\"Male\",0.6),(\"Female\",0.7)],Beer=beercontrol,Wine=winecontrol,Weight=weightcontrol)\n",
    "\n",
    "\n",
    "type(w)\n",
    "\n",
    "display(w)\n",
    "\n",
    "\n"
   ]
  }
 ],
 "metadata": {
  "kernelspec": {
   "display_name": "Python 3",
   "language": "python",
   "name": "python3"
  },
  "language_info": {
   "codemirror_mode": {
    "name": "ipython",
    "version": 3
   },
   "file_extension": ".py",
   "mimetype": "text/x-python",
   "name": "python",
   "nbconvert_exporter": "python",
   "pygments_lexer": "ipython3",
   "version": "3.7.8"
  }
 },
 "nbformat": 4,
 "nbformat_minor": 4
}
