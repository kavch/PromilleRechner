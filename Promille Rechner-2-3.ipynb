{
 "cells": [
  {
   "cell_type": "code",
   "execution_count": 4,
   "metadata": {},
   "outputs": [],
   "source": [
    "#WARNING!\n",
    "#We do not support underage drinking, excessive drinking, binge drinking or any other unsafe drinking behavior.\n",
    "#We do not take any responisbility for the information provided and the actions you take! "
   ]
  },
  {
   "cell_type": "code",
   "execution_count": 1,
   "metadata": {},
   "outputs": [
    {
     "name": "stdout",
     "output_type": "stream",
     "text": [
      "Enter your name:Hans\n",
      "Hello Hans ! How old are you?\n",
      "Please enter your age:5\n",
      "Hans you should not drink alcohol!\n",
      "Goodbye!\n"
     ]
    }
   ],
   "source": [
    "name = input (\"Enter your name:\")\n",
    "print(\"Hello\",name, \"! How old are you?\")\n",
    "\n",
    "age = int(input('Please enter your age:'))\n",
    "if age<16:\n",
    "    print (name,\"you should not drink alcohol!\")\n",
    "    print(\"Goodbye!\")\n",
    "if age <16:\n",
    "    exit()\n",
    "    \n",
    "else: print (\"Lets continue:\")"
   ]
  },
  {
   "cell_type": "code",
   "execution_count": 2,
   "metadata": {},
   "outputs": [
    {
     "data": {
      "application/vnd.jupyter.widget-view+json": {
       "model_id": "df7bad5ded414b9bb08dce71d7532171",
       "version_major": 2,
       "version_minor": 0
      },
      "text/plain": [
       "interactive(children=(Dropdown(description='returnfactor', options=(('Male', 0.6), ('Female', 0.7)), value=0.6…"
      ]
     },
     "metadata": {},
     "output_type": "display_data"
    }
   ],
   "source": [
    "from ipywidgets import interact\n",
    "import ipywidgets as widgets\n",
    "import math\n",
    "\n",
    "\n",
    "def calculate(returnfactor, weight, beer, wine):\n",
    "    alkgramm = (10*beer*0.33*5*0,8)+(10*wine*0.25*12*0,8)\n",
    "    promille = alkgramm/(returnfactor*weight)\n",
    "    resultText = \"You have \" + str(promille) + \" promille\"\n",
    "    return resultText\n",
    "\n",
    "weightcontrol = widgets.IntSlider(min=40,max=150)\n",
    "result = interact(calculate, returnfactor=[(\"Male\",0.6),(\"Female\",0.7)], weight=weightcontrol, beer=(0,5),wine=(0,5))"
   ]
  },
  {
   "cell_type": "code",
   "execution_count": null,
   "metadata": {},
   "outputs": [],
   "source": [
    "print(\"If you want to know more about alkohol consumption enter your promille result\")\n",
    "alk = input (\"Enter your promille:\")\n",
    "\n",
    "from decimal import Decimal\n",
    "\n",
    "\n",
    "\n",
    "count = 0\n",
    "while alk >=0.02 :\n",
    "    print(str(alk) + \" Promille\")\n",
    "    alk = round((alk*0.7),2)   \n",
    "    count += 1\n",
    "print(\"You have 0 Promille\")\n",
    "print(\"This will be in {} hours\".format(count))"
   ]
  },
  {
   "cell_type": "code",
   "execution_count": null,
   "metadata": {},
   "outputs": [],
   "source": []
  },
  {
   "cell_type": "code",
   "execution_count": 2,
   "metadata": {},
   "outputs": [
    {
     "data": {
      "application/vnd.jupyter.widget-view+json": {
       "model_id": "df1e04b7e4d945eebbc5cef643456a4c",
       "version_major": 2,
       "version_minor": 0
      },
      "text/plain": [
       "interactive(children=(IntSlider(value=5, description='Beer', max=15, min=-5), IntSlider(value=5, description='…"
      ]
     },
     "metadata": {},
     "output_type": "display_data"
    }
   ],
   "source": [
    "from __future__ import print_function\n",
    "from ipywidgets import interact, interactive, fixed, interact_manual\n",
    "import ipywidgets as widgets\n",
    "from IPython.display import display\n",
    "from decimal import Decimal\n",
    "\n",
    "def f(Beer, Wine,Weight,Gender):\n",
    "    display(round(((Beer*0.33*5*10*0.8 + Wine*0.25*12*10*0.8))/(Weight*Gender),2))\n",
    "   \n",
    "    \n",
    "w = interactive(f,Beer=5,Wine=5,Weight=150,Gender=[(\"Male\",0.6),(\"Female\",0.7)])\n",
    "\n",
    "type(w)\n",
    "\n",
    "display(w)\n",
    "\n"
   ]
  }
 ],
 "metadata": {
  "kernelspec": {
   "display_name": "Python 3",
   "language": "python",
   "name": "python3"
  },
  "language_info": {
   "codemirror_mode": {
    "name": "ipython",
    "version": 3
   },
   "file_extension": ".py",
   "mimetype": "text/x-python",
   "name": "python",
   "nbconvert_exporter": "python",
   "pygments_lexer": "ipython3",
   "version": "3.7.8"
  }
 },
 "nbformat": 4,
 "nbformat_minor": 4
}
