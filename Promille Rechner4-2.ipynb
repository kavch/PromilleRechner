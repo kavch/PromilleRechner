{
 "cells": [
  {
   "cell_type": "markdown",
   "metadata": {},
   "source": [
    "# **WARNING!**\n",
    "\n",
    "*We do not support* underage drinking, excessive drinking, binge drinking or any other unsafe drinking behavior.\n",
    "\n",
    "We do not take any responisbility for the information provided and the actions you take! "
   ]
  },
  {
   "cell_type": "code",
   "execution_count": null,
   "metadata": {},
   "outputs": [],
   "source": [
    "name = input (\"Enter your name:\")\n",
    "print(\"Hello\",name, \"! How old are you?\")\n",
    "\n",
    "age = int(input('Please enter your age:'))\n",
    "if age<16:\n",
    "    print (name,\"you should not drink alcohol!\")\n",
    "    print(\"Goodbye!\")\n",
    "if age <16:c\n",
    "    exit()\n",
    "    \n",
    "else: print (\"Lets continue:\")"
   ]
  },
  {
   "cell_type": "code",
   "execution_count": null,
   "metadata": {},
   "outputs": [],
   "source": [
    "from ipywidgets import interact\n",
    "import ipywidgets as widgets\n",
    "import math\n",
    "\n",
    "\n",
    "def calculate(returnfactor, weight, beer, wine):\n",
    "    alkgramm = (10*beer*0.33*5*0.8)+(10*wine*0.25*12*0.8)\n",
    "    promille = round(alkgramm/(returnfactor*weight),2)\n",
    "    resultText = \"You have \" + str(promille) + \" promille\"\n",
    "    return resultText\n",
    "    \n",
    "\n",
    "weightcontrol = widgets.IntSlider(min=40,max=150)\n",
    "result = interact(calculate, returnfactor=widgets.Dropdown(options=[('Male', 0.6), ('Female', 0.7)]), weight=weightcontrol, beer=(0,5),wine=(0,5))\n",
    "\n"
   ]
  },
  {
   "cell_type": "code",
   "execution_count": null,
   "metadata": {},
   "outputs": [],
   "source": [
    "print(\"If you want to know more about alkohol consumption enter your promille result\")\n",
    "alk = input (\"Enter your promille:\")\n",
    "\n",
    "from decimal import Decimal\n",
    "\n",
    "\n",
    "\n",
    "count = 0\n",
    "while alk >=0.02 :\n",
    "    print(str(alk) + \" Promille\")\n",
    "    alk = round((alk*0.7),2)   \n",
    "    count += 1\n",
    "print(\"You have 0 Promille\")\n",
    "print(\"This will be in {} hours\".format(count))"
   ]
  },
  {
   "cell_type": "code",
   "execution_count": 2,
   "metadata": {},
   "outputs": [
    {
     "name": "stdout",
     "output_type": "stream",
     "text": [
      "Requirement already satisfied: pandas in /srv/conda/envs/notebook/lib/python3.7/site-packages (1.1.5)\r\n",
      "Requirement already satisfied: numpy>=1.15.4 in /srv/conda/envs/notebook/lib/python3.7/site-packages (from pandas) (1.19.4)\r\n",
      "Requirement already satisfied: pytz>=2017.2 in /srv/conda/envs/notebook/lib/python3.7/site-packages (from pandas) (2020.4)\r\n",
      "Requirement already satisfied: python-dateutil>=2.7.3 in /srv/conda/envs/notebook/lib/python3.7/site-packages (from pandas) (2.8.1)\r\n",
      "Requirement already satisfied: six>=1.5 in /srv/conda/envs/notebook/lib/python3.7/site-packages (from python-dateutil>=2.7.3->pandas) (1.15.0)\r\n"
     ]
    }
   ],
   "source": [
    "!pip install pandas"
   ]
  },
  {
   "cell_type": "code",
   "execution_count": 3,
   "metadata": {},
   "outputs": [],
   "source": [
    "import pandas as pd\n",
    "import numpy as  np"
   ]
  },
  {
   "cell_type": "code",
   "execution_count": 6,
   "metadata": {},
   "outputs": [],
   "source": [
    "df=pd.read_csv(\"Grenzwert.csv\")\n",
    "\n"
   ]
  },
  {
   "cell_type": "code",
   "execution_count": 5,
   "metadata": {},
   "outputs": [
    {
     "data": {
      "text/html": [
       "<style  type=\"text/css\" >\n",
       "    #T_de82dd8e_3ff1_11eb_81bd_aa636ac5f002 th {\n",
       "          background: #4bb8b0;\n",
       "          color: white;\n",
       "          font-family: verdana;\n",
       "    }    #T_de82dd8e_3ff1_11eb_81bd_aa636ac5f002 td {\n",
       "          font-family: verdana;\n",
       "    }    #T_de82dd8e_3ff1_11eb_81bd_aa636ac5f002 tr:nth-of-type(odd) {\n",
       "          background: #DCDCDC;\n",
       "    }    #T_de82dd8e_3ff1_11eb_81bd_aa636ac5f002 tr:nth-of-type(even) {\n",
       "          background: white;\n",
       "    }    #T_de82dd8e_3ff1_11eb_81bd_aa636ac5f002 tr:hover {\n",
       "          background-color: yellow;\n",
       "    }</style><table id=\"T_de82dd8e_3ff1_11eb_81bd_aa636ac5f002\" ><thead>    <tr>        <th class=\"col_heading level0 col0\" >Country;Promille</th>    </tr></thead><tbody>\n",
       "                <tr>\n",
       "                                <td id=\"T_de82dd8e_3ff1_11eb_81bd_aa636ac5f002row0_col0\" class=\"data row0 col0\" >Belgien;0.5</td>\n",
       "            </tr>\n",
       "            <tr>\n",
       "                                <td id=\"T_de82dd8e_3ff1_11eb_81bd_aa636ac5f002row1_col0\" class=\"data row1 col0\" >Bosnien-Herzegowina;0.3</td>\n",
       "            </tr>\n",
       "            <tr>\n",
       "                                <td id=\"T_de82dd8e_3ff1_11eb_81bd_aa636ac5f002row2_col0\" class=\"data row2 col0\" >Bulgarien;0.5</td>\n",
       "            </tr>\n",
       "            <tr>\n",
       "                                <td id=\"T_de82dd8e_3ff1_11eb_81bd_aa636ac5f002row3_col0\" class=\"data row3 col0\" >Dänemark;0.5</td>\n",
       "            </tr>\n",
       "            <tr>\n",
       "                                <td id=\"T_de82dd8e_3ff1_11eb_81bd_aa636ac5f002row4_col0\" class=\"data row4 col0\" >Deutschland;0.5</td>\n",
       "            </tr>\n",
       "            <tr>\n",
       "                                <td id=\"T_de82dd8e_3ff1_11eb_81bd_aa636ac5f002row5_col0\" class=\"data row5 col0\" >Estland;0.2</td>\n",
       "            </tr>\n",
       "            <tr>\n",
       "                                <td id=\"T_de82dd8e_3ff1_11eb_81bd_aa636ac5f002row6_col0\" class=\"data row6 col0\" >Finnland;0.5</td>\n",
       "            </tr>\n",
       "            <tr>\n",
       "                                <td id=\"T_de82dd8e_3ff1_11eb_81bd_aa636ac5f002row7_col0\" class=\"data row7 col0\" >Frankreich;0.5</td>\n",
       "            </tr>\n",
       "            <tr>\n",
       "                                <td id=\"T_de82dd8e_3ff1_11eb_81bd_aa636ac5f002row8_col0\" class=\"data row8 col0\" >Griechenland;0.5</td>\n",
       "            </tr>\n",
       "            <tr>\n",
       "                                <td id=\"T_de82dd8e_3ff1_11eb_81bd_aa636ac5f002row9_col0\" class=\"data row9 col0\" >Großbritannien;0.8</td>\n",
       "            </tr>\n",
       "            <tr>\n",
       "                                <td id=\"T_de82dd8e_3ff1_11eb_81bd_aa636ac5f002row10_col0\" class=\"data row10 col0\" >Irland;0.5</td>\n",
       "            </tr>\n",
       "            <tr>\n",
       "                                <td id=\"T_de82dd8e_3ff1_11eb_81bd_aa636ac5f002row11_col0\" class=\"data row11 col0\" >Island;0.5</td>\n",
       "            </tr>\n",
       "            <tr>\n",
       "                                <td id=\"T_de82dd8e_3ff1_11eb_81bd_aa636ac5f002row12_col0\" class=\"data row12 col0\" >Italien;0.5</td>\n",
       "            </tr>\n",
       "            <tr>\n",
       "                                <td id=\"T_de82dd8e_3ff1_11eb_81bd_aa636ac5f002row13_col0\" class=\"data row13 col0\" >Kroatien;0.5</td>\n",
       "            </tr>\n",
       "            <tr>\n",
       "                                <td id=\"T_de82dd8e_3ff1_11eb_81bd_aa636ac5f002row14_col0\" class=\"data row14 col0\" >Lettland;0.5</td>\n",
       "            </tr>\n",
       "            <tr>\n",
       "                                <td id=\"T_de82dd8e_3ff1_11eb_81bd_aa636ac5f002row15_col0\" class=\"data row15 col0\" >Liechtenstein;0.5</td>\n",
       "            </tr>\n",
       "            <tr>\n",
       "                                <td id=\"T_de82dd8e_3ff1_11eb_81bd_aa636ac5f002row16_col0\" class=\"data row16 col0\" >Litauen;0.4</td>\n",
       "            </tr>\n",
       "            <tr>\n",
       "                                <td id=\"T_de82dd8e_3ff1_11eb_81bd_aa636ac5f002row17_col0\" class=\"data row17 col0\" >Luxemburg;0.5</td>\n",
       "            </tr>\n",
       "            <tr>\n",
       "                                <td id=\"T_de82dd8e_3ff1_11eb_81bd_aa636ac5f002row18_col0\" class=\"data row18 col0\" >Malta;0.5</td>\n",
       "            </tr>\n",
       "            <tr>\n",
       "                                <td id=\"T_de82dd8e_3ff1_11eb_81bd_aa636ac5f002row19_col0\" class=\"data row19 col0\" >Mazedonien;0.5</td>\n",
       "            </tr>\n",
       "    </tbody></table>"
      ],
      "text/plain": [
       "<pandas.io.formats.style.Styler at 0x7f3582752950>"
      ]
     },
     "execution_count": 5,
     "metadata": {},
     "output_type": "execute_result"
    }
   ],
   "source": [
    "df.head(20).style.set_table_styles(\n",
    "[{'selector': 'th',\n",
    "  'props': [('background', '#4bb8b0'), \n",
    "            ('color', 'white'),\n",
    "            ('font-family', 'verdana')]},\n",
    " \n",
    " {'selector': 'td',\n",
    "  'props': [('font-family', 'verdana')]},\n",
    "\n",
    " {'selector': 'tr:nth-of-type(odd)',\n",
    "  'props': [('background', '#DCDCDC')]}, \n",
    " \n",
    " {'selector': 'tr:nth-of-type(even)',\n",
    "  'props': [('background', 'white')]},\n",
    " \n",
    " {'selector': 'tr:hover',\n",
    "  'props': [('background-color', 'yellow')]}\n",
    " ]\n",
    ").hide_index()"
   ]
  },
  {
   "cell_type": "code",
   "execution_count": null,
   "metadata": {},
   "outputs": [],
   "source": []
  },
  {
   "cell_type": "code",
   "execution_count": null,
   "metadata": {},
   "outputs": [],
   "source": [
    "\n",
    "print(\"If you want to know more about alkohol reduction enter your promille result\")\n",
    "print(\"\")\n",
    "alk = float(input (\"Enter your promille:\"))\n",
    "print(\"\")\n",
    "\n",
    "\n",
    "from decimal import Decimal\n",
    "\n",
    "\n",
    "\n",
    "count = 0\n",
    "while alk >=0.02 :\n",
    "    if count<1:\n",
    "        print(str(alk) + \" Promille after\",count,\"hours\")\n",
    "    elif count<2:\n",
    "        print(str(alk) + \" Promille after\",count,\"hour\")\n",
    "    else:print(str(alk) + \" Promille after\",count,\"hours\")\n",
    "    alk = round((alk*0.7),2)  \n",
    "       \n",
    "    count += 1\n",
    "    \n",
    "print(\"\")\n",
    "\n",
    "\n",
    "print(\"You now have 0 Promille.\")\n",
    "print(\"\")\n",
    "\n",
    "\n",
    "print(\"This will be in {} hours\".format(count))"
   ]
  },
  {
   "cell_type": "code",
   "execution_count": null,
   "metadata": {},
   "outputs": [],
   "source": [
    "from __future__ import print_function\n",
    "from ipywidgets import interact, interactive, fixed, interact_manual\n",
    "import ipywidgets as widgets\n",
    "from IPython.display import display,Markdown\n",
    "from decimal import Decimal\n",
    "\n",
    "def f(Beer, Wine,Weight,Gender):\n",
    "    current=round(((Beer*0.33*5*10*0.8 + Wine*0.25*12*10*0.8))/(Weight*Gender),2)\n",
    "    display(\"You have \"+str(current)+(\" promille\"))\n",
    "\n",
    "    \n",
    "    \n",
    "weightcontrol = widgets.IntSlider(min=40,max=150)\n",
    "beercontrol = widgets.IntSlider(min=0,max=10)\n",
    "winecontrol = widgets.IntSlider(min=0,max=10)\n",
    "w = interactive(f,Gender=[(\"Male\",0.6),(\"Female\",0.7)],Beer=beercontrol,Wine=winecontrol,Weight=weightcontrol)\n",
    "\n",
    "\n",
    "type(w)\n",
    "\n",
    "display(w)\n",
    "\n",
    "\n"
   ]
  }
 ],
 "metadata": {
  "kernelspec": {
   "display_name": "Python 3",
   "language": "python",
   "name": "python3"
  },
  "language_info": {
   "codemirror_mode": {
    "name": "ipython",
    "version": 3
   },
   "file_extension": ".py",
   "mimetype": "text/x-python",
   "name": "python",
   "nbconvert_exporter": "python",
   "pygments_lexer": "ipython3",
   "version": "3.7.8"
  }
 },
 "nbformat": 4,
 "nbformat_minor": 4
}
