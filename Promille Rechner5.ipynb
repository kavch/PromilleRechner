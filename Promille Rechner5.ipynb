{
 "cells": [
  {
   "cell_type": "markdown",
   "metadata": {},
   "source": [
    "# **WARNING!**\n",
    "\n",
    "##### *We do not support* underage drinking, excessive drinking, binge drinking or any other unsafe drinking behavior.\n",
    "\n",
    "##### We do not take any responisbility for the information provided and the actions you take! \n",
    "\n",
    "### This programm is ment for educational purposes and not for the exact prediction of the users alkohol level or reduction of said alkohol level."
   ]
  },
  {
   "cell_type": "code",
   "execution_count": 2,
   "metadata": {},
   "outputs": [
    {
     "name": "stdout",
     "output_type": "stream",
     "text": [
      "Enter your name:c\n",
      "\n",
      "Hello c ! How old are you?\n",
      "\n",
      "Please enter your age:16\n",
      "\n",
      "You can now use the Promille Claculator, Alcohol Reduction Calculator and other educational tools\n"
     ]
    }
   ],
   "source": [
    "name = input (\"Enter your name:\")\n",
    "print(\"\")\n",
    "print(\"Hello\",name, \"! How old are you?\")\n",
    "print(\"\")\n",
    "\n",
    "age = int(input('Please enter your age:'))\n",
    "if age<16:\n",
    "    print(\"\")\n",
    "    print (name,\"you should not drink alcohol!\")\n",
    "    print(\"\")\n",
    "    print(\"Goodbye!\")\n",
    "    exit()\n",
    "    \n",
    "else: \n",
    "    print(\"\")\n",
    "    print (\"You can now use the Promille Claculator, Alcohol Reduction Calculator and other educational tools\")"
   ]
  },
  {
   "cell_type": "markdown",
   "metadata": {},
   "source": [
    "## **Promille Calculator**"
   ]
  },
  {
   "cell_type": "code",
   "execution_count": 3,
   "metadata": {},
   "outputs": [
    {
     "name": "stdout",
     "output_type": "stream",
     "text": [
      "16\n"
     ]
    },
    {
     "data": {
      "application/vnd.jupyter.widget-view+json": {
       "model_id": "1a4da13c0a95452e854ea121656217a8",
       "version_major": 2,
       "version_minor": 0
      },
      "text/plain": [
       "interactive(children=(Dropdown(description='Gender', options=(('Male', 0.7), ('Female', 0.6)), value=0.7), Int…"
      ]
     },
     "metadata": {},
     "output_type": "display_data"
    }
   ],
   "source": [
    "from ipywidgets import interact\n",
    "import ipywidgets as widgets\n",
    "import math\n",
    "\n",
    "print(age)\n",
    "    \n",
    "def calculate1(Gender, Weight, Beer, Wine):\n",
    "    alkgramm = (10*Beer*0.33*5*0.8)+(10*Wine*0.25*12*0.8)\n",
    "    promille = round(alkgramm/(Gender*Weight),2)\n",
    "    resultText = \"You have \" + str(promille) + \" promille\"\n",
    "    return resultText\n",
    "   \n",
    "def calculate2(Gender, Weight, Beer, Wine,Shot):\n",
    "    alkgramm = (10*Beer*0.33*5*0.8)+(10*Wine*0.25*12*0.8)+(10*Shot*0.02*40*0.8)\n",
    "    promille = round(alkgramm/(Gender*Weight),2)\n",
    "    resultText = \"You have \" + str(promille) + \" promille\"\n",
    "    return resultText\n",
    "\n",
    "weightcontrol = widgets.IntSlider(min=40,max=150)\n",
    "beercontrol = widgets.IntSlider(min=0,max=5)\n",
    "winecontrol = widgets.IntSlider(min=0,max=5)\n",
    "shotcontrol = widgets.IntSlider(min=0,max=10)\n",
    "\n",
    "if age<18:\n",
    "    result = interact(calculate1, Gender=widgets.Dropdown(options=[('Male', 0.7), ('Female', 0.6)]), Weight=weightcontrol, Beer=beercontrol,Wine=winecontrol)\n",
    "else:\n",
    "    result = interact(calculate2, Gender=widgets.Dropdown(options=[('Male', 0.7), ('Female', 0.6)]), Weight=weightcontrol, Beer=beercontrol,Wine=winecontrol,Shot=shotcontrol)\n",
    "\n",
    "\n"
   ]
  },
  {
   "cell_type": "markdown",
   "metadata": {},
   "source": [
    "# **Alcohol Reduction Claculator**"
   ]
  },
  {
   "cell_type": "code",
   "execution_count": null,
   "metadata": {},
   "outputs": [
    {
     "name": "stdout",
     "output_type": "stream",
     "text": [
      "If you want to know more about alkohol consumption enter your promille result\n",
      "Enter your promille:2.5\n"
     ]
    }
   ],
   "source": [
    "print(\"If you want to know more about alkohol consumption enter your promille result\")\n",
    "alk = input (\"Enter your promille:\")\n",
    "gender = int(input (\"Enter your gender:\"))\n",
    "\n",
    "\n",
    "\n",
    "from decimal import Decimal\n",
    "\n",
    "\n",
    "\n",
    "count = 0\n",
    "while alk >=0.02 :\n",
    "    print(str(alk) + \" Promille\")\n",
    "    alk = round((alk*0.65),2)   \n",
    "    count += 1\n",
    "print(\"You have 0 Promille\")\n",
    "print(\"This will be in {} hours\".format(count))"
   ]
  },
  {
   "cell_type": "markdown",
   "metadata": {},
   "source": [
    "## How do the Alcohol Blood Concentration  decrease?"
   ]
  },
  {
   "cell_type": "code",
   "execution_count": 1,
   "metadata": {},
   "outputs": [
    {
     "data": {
      "text/html": [
       "<img src=\"https://steemitimages.com/p/3zpz8WQe4SNGWd7TzozjPgq3rggennavDx3XPY35pEAVnq1PTRFZQZj6Dv9DZfzUUhW26ub6F8RLRxPHj2KdcNqH8MpR2gwvHaWZTBqJCnHR5ZFL5mTdjxguvPjLpZf3xfk2K2fk5CXFwkQTLtC6?format=match&mode=fit&width=1280\" width=\"500\" height=\"500\"/>"
      ],
      "text/plain": [
       "<IPython.core.display.Image object>"
      ]
     },
     "execution_count": 1,
     "metadata": {},
     "output_type": "execute_result"
    }
   ],
   "source": [
    "from IPython.display import Image\n",
    "from IPython.core.display import HTML \n",
    "Image(url= \"https://steemitimages.com/p/3zpz8WQe4SNGWd7TzozjPgq3rggennavDx3XPY35pEAVnq1PTRFZQZj6Dv9DZfzUUhW26ub6F8RLRxPHj2KdcNqH8MpR2gwvHaWZTBqJCnHR5ZFL5mTdjxguvPjLpZf3xfk2K2fk5CXFwkQTLtC6?format=match&mode=fit&width=1280\", width=500, height=500)"
   ]
  },
  {
   "cell_type": "markdown",
   "metadata": {},
   "source": [
    "##### The per mille value provides information about the blood alcohol concentration (BAC), i.e. the proportion of alcohol in a certain amount of blood. If a woman and a man drink a glass of wine at a party, the woman will have a much higher blood alcohol level than the man. What is the reason for this?\n",
    "\n",
    "##### Water accounts for about 60 percent of women's body weight, and 70 percent for men. That's because women, by nature, usually weigh less and have less muscle than men. Our muscle cells function like little water reservoirs.\n",
    "\n",
    "##### Even if a woman drinks the same amount and weighs the same amount as a man, the lower proportion of water in her body ensures that you end up with more alcohol in your blood. The reason: the same amount of alcohol is distributed over less water. This increases the concentration.\n"
   ]
  },
  {
   "cell_type": "markdown",
   "metadata": {},
   "source": [
    "#  Alcohol Limits in Europe"
   ]
  },
  {
   "cell_type": "code",
   "execution_count": 5,
   "metadata": {},
   "outputs": [
    {
     "name": "stdout",
     "output_type": "stream",
     "text": [
      "Requirement already satisfied: pandas in /srv/conda/envs/notebook/lib/python3.7/site-packages (1.1.5)\n",
      "Requirement already satisfied: pytz>=2017.2 in /srv/conda/envs/notebook/lib/python3.7/site-packages (from pandas) (2020.4)\n",
      "Requirement already satisfied: python-dateutil>=2.7.3 in /srv/conda/envs/notebook/lib/python3.7/site-packages (from pandas) (2.8.1)\n",
      "Requirement already satisfied: numpy>=1.15.4 in /srv/conda/envs/notebook/lib/python3.7/site-packages (from pandas) (1.19.4)\n",
      "Requirement already satisfied: six>=1.5 in /srv/conda/envs/notebook/lib/python3.7/site-packages (from python-dateutil>=2.7.3->pandas) (1.15.0)\n"
     ]
    }
   ],
   "source": [
    "!pip install pandas"
   ]
  },
  {
   "cell_type": "code",
   "execution_count": 6,
   "metadata": {},
   "outputs": [],
   "source": [
    "import pandas as pd\n",
    "import numpy as  np"
   ]
  },
  {
   "cell_type": "code",
   "execution_count": 7,
   "metadata": {},
   "outputs": [],
   "source": [
    "df=pd.read_csv(\"Grenzwert.csv\")\n",
    "\n"
   ]
  },
  {
   "cell_type": "code",
   "execution_count": 8,
   "metadata": {},
   "outputs": [
    {
     "data": {
      "text/html": [
       "<style  type=\"text/css\" >\n",
       "    #T_b3405ea4_40a9_11eb_a9f3_da6f121fdb23 th {\n",
       "          background: #4bb8b0;\n",
       "          color: white;\n",
       "          font-family: verdana;\n",
       "    }    #T_b3405ea4_40a9_11eb_a9f3_da6f121fdb23 td {\n",
       "          font-family: verdana;\n",
       "    }    #T_b3405ea4_40a9_11eb_a9f3_da6f121fdb23 tr:nth-of-type(odd) {\n",
       "          background: #DCDCDC;\n",
       "    }    #T_b3405ea4_40a9_11eb_a9f3_da6f121fdb23 tr:nth-of-type(even) {\n",
       "          background: white;\n",
       "    }    #T_b3405ea4_40a9_11eb_a9f3_da6f121fdb23 tr:hover {\n",
       "          background-color: yellow;\n",
       "    }</style><table id=\"T_b3405ea4_40a9_11eb_a9f3_da6f121fdb23\" ><thead>    <tr>        <th class=\"col_heading level0 col0\" >Country;Promille</th>    </tr></thead><tbody>\n",
       "                <tr>\n",
       "                                <td id=\"T_b3405ea4_40a9_11eb_a9f3_da6f121fdb23row0_col0\" class=\"data row0 col0\" >5.000000</td>\n",
       "            </tr>\n",
       "            <tr>\n",
       "                                <td id=\"T_b3405ea4_40a9_11eb_a9f3_da6f121fdb23row1_col0\" class=\"data row1 col0\" >3.000000</td>\n",
       "            </tr>\n",
       "            <tr>\n",
       "                                <td id=\"T_b3405ea4_40a9_11eb_a9f3_da6f121fdb23row2_col0\" class=\"data row2 col0\" >5.000000</td>\n",
       "            </tr>\n",
       "            <tr>\n",
       "                                <td id=\"T_b3405ea4_40a9_11eb_a9f3_da6f121fdb23row3_col0\" class=\"data row3 col0\" >5.000000</td>\n",
       "            </tr>\n",
       "            <tr>\n",
       "                                <td id=\"T_b3405ea4_40a9_11eb_a9f3_da6f121fdb23row4_col0\" class=\"data row4 col0\" >5.000000</td>\n",
       "            </tr>\n",
       "            <tr>\n",
       "                                <td id=\"T_b3405ea4_40a9_11eb_a9f3_da6f121fdb23row5_col0\" class=\"data row5 col0\" >2.000000</td>\n",
       "            </tr>\n",
       "            <tr>\n",
       "                                <td id=\"T_b3405ea4_40a9_11eb_a9f3_da6f121fdb23row6_col0\" class=\"data row6 col0\" >5.000000</td>\n",
       "            </tr>\n",
       "            <tr>\n",
       "                                <td id=\"T_b3405ea4_40a9_11eb_a9f3_da6f121fdb23row7_col0\" class=\"data row7 col0\" >5.000000</td>\n",
       "            </tr>\n",
       "            <tr>\n",
       "                                <td id=\"T_b3405ea4_40a9_11eb_a9f3_da6f121fdb23row8_col0\" class=\"data row8 col0\" >5.000000</td>\n",
       "            </tr>\n",
       "            <tr>\n",
       "                                <td id=\"T_b3405ea4_40a9_11eb_a9f3_da6f121fdb23row9_col0\" class=\"data row9 col0\" >8.000000</td>\n",
       "            </tr>\n",
       "            <tr>\n",
       "                                <td id=\"T_b3405ea4_40a9_11eb_a9f3_da6f121fdb23row10_col0\" class=\"data row10 col0\" >5.000000</td>\n",
       "            </tr>\n",
       "            <tr>\n",
       "                                <td id=\"T_b3405ea4_40a9_11eb_a9f3_da6f121fdb23row11_col0\" class=\"data row11 col0\" >5.000000</td>\n",
       "            </tr>\n",
       "            <tr>\n",
       "                                <td id=\"T_b3405ea4_40a9_11eb_a9f3_da6f121fdb23row12_col0\" class=\"data row12 col0\" >5.000000</td>\n",
       "            </tr>\n",
       "            <tr>\n",
       "                                <td id=\"T_b3405ea4_40a9_11eb_a9f3_da6f121fdb23row13_col0\" class=\"data row13 col0\" >5.000000</td>\n",
       "            </tr>\n",
       "            <tr>\n",
       "                                <td id=\"T_b3405ea4_40a9_11eb_a9f3_da6f121fdb23row14_col0\" class=\"data row14 col0\" >5.000000</td>\n",
       "            </tr>\n",
       "            <tr>\n",
       "                                <td id=\"T_b3405ea4_40a9_11eb_a9f3_da6f121fdb23row15_col0\" class=\"data row15 col0\" >5.000000</td>\n",
       "            </tr>\n",
       "            <tr>\n",
       "                                <td id=\"T_b3405ea4_40a9_11eb_a9f3_da6f121fdb23row16_col0\" class=\"data row16 col0\" >4.000000</td>\n",
       "            </tr>\n",
       "            <tr>\n",
       "                                <td id=\"T_b3405ea4_40a9_11eb_a9f3_da6f121fdb23row17_col0\" class=\"data row17 col0\" >5.000000</td>\n",
       "            </tr>\n",
       "            <tr>\n",
       "                                <td id=\"T_b3405ea4_40a9_11eb_a9f3_da6f121fdb23row18_col0\" class=\"data row18 col0\" >5.000000</td>\n",
       "            </tr>\n",
       "            <tr>\n",
       "                                <td id=\"T_b3405ea4_40a9_11eb_a9f3_da6f121fdb23row19_col0\" class=\"data row19 col0\" >5.000000</td>\n",
       "            </tr>\n",
       "    </tbody></table>"
      ],
      "text/plain": [
       "<pandas.io.formats.style.Styler at 0x7efe2cfe80d0>"
      ]
     },
     "execution_count": 8,
     "metadata": {},
     "output_type": "execute_result"
    }
   ],
   "source": [
    "df.head(20).style.set_table_styles(\n",
    "[{'selector': 'th',\n",
    "  'props': [('background', '#4bb8b0'), \n",
    "            ('color', 'white'),\n",
    "            ('font-family', 'verdana')]},\n",
    " \n",
    " {'selector': 'td',\n",
    "  'props': [('font-family', 'verdana')]},\n",
    "\n",
    " {'selector': 'tr:nth-of-type(odd)',\n",
    "  'props': [('background', '#DCDCDC')]}, \n",
    " \n",
    " {'selector': 'tr:nth-of-type(even)',\n",
    "  'props': [('background', 'white')]},\n",
    " \n",
    " {'selector': 'tr:hover',\n",
    "  'props': [('background-color', 'yellow')]}\n",
    " ]\n",
    ").hide_index()"
   ]
  },
  {
   "cell_type": "code",
   "execution_count": null,
   "metadata": {},
   "outputs": [],
   "source": []
  }
 ],
 "metadata": {
  "kernelspec": {
   "display_name": "Python 3",
   "language": "python",
   "name": "python3"
  },
  "language_info": {
   "codemirror_mode": {
    "name": "ipython",
    "version": 3
   },
   "file_extension": ".py",
   "mimetype": "text/x-python",
   "name": "python",
   "nbconvert_exporter": "python",
   "pygments_lexer": "ipython3",
   "version": "3.7.8"
  }
 },
 "nbformat": 4,
 "nbformat_minor": 4
}
