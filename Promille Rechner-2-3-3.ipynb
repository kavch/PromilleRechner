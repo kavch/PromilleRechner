{
 "cells": [
  {
   "cell_type": "code",
   "execution_count": 4,
   "metadata": {},
   "outputs": [],
   "source": [
    "#WARNING!\n",
    "#We do not support underage drinking, excessive drinking, binge drinking or any other unsafe drinking behavior.\n",
    "#We do not take any responisbility for the information provided and the actions you take! "
   ]
  },
  {
   "cell_type": "code",
   "execution_count": 1,
   "metadata": {},
   "outputs": [
    {
     "name": "stdout",
     "output_type": "stream",
     "text": [
      "Enter your name:Hans\n",
      "Hello Hans ! How old are you?\n",
      "Please enter your age:5\n",
      "Hans you should not drink alcohol!\n",
      "Goodbye!\n"
     ]
    }
   ],
   "source": [
    "name = input (\"Enter your name:\")\n",
    "print(\"Hello\",name, \"! How old are you?\")\n",
    "\n",
    "age = int(input('Please enter your age:'))\n",
    "if age<16:\n",
    "    print (name,\"you should not drink alcohol!\")\n",
    "    print(\"Goodbye!\")\n",
    "if age <16:\n",
    "    exit()\n",
    "    \n",
    "else: print (\"Lets continue:\")"
   ]
  },
  {
   "cell_type": "code",
   "execution_count": null,
   "metadata": {},
   "outputs": [],
   "source": [
    "from ipywidgets import interact\n",
    "import ipywidgets as widgets\n",
    "import math\n",
    "\n",
    "\n",
    "def calculate(returnfactor, weight, beer, wine):\n",
    "    alkgramm = (10*beer*0.33*5*0.8)+(10*wine*0.25*12*0.8)\n",
    "    promille = round(alkgramm/(returnfactor*weight),2)\n",
    "    resultText = \"You have \" + str(promille) + \" promille\"\n",
    "    return resultText\n",
    "    \n",
    "\n",
    "weightcontrol = widgets.IntSlider(min=40,max=150)\n",
    "result = interact(calculate, returnfactor=widgets.Dropdown(options=[('Male', 0.6), ('Female', 0.7)]), weight=weightcontrol, beer=(0,5),wine=(0,5))\n",
    "\n"
   ]
  },
  {
   "cell_type": "code",
   "execution_count": null,
   "metadata": {},
   "outputs": [],
   "source": [
    "print(\"If you want to know more about alkohol consumption enter your promille result\")\n",
    "alk = input (\"Enter your promille:\")\n",
    "\n",
    "from decimal import Decimal\n",
    "\n",
    "\n",
    "\n",
    "count = 0\n",
    "while alk >=0.02 :\n",
    "    print(str(alk) + \" Promille\")\n",
    "    alk = round((alk*0.7),2)   \n",
    "    count += 1\n",
    "print(\"You have 0 Promille\")\n",
    "print(\"This will be in {} hours\".format(count))"
   ]
  },
  {
   "cell_type": "code",
   "execution_count": null,
   "metadata": {},
   "outputs": [],
   "source": []
  },
  {
   "cell_type": "code",
   "execution_count": 14,
   "metadata": {},
   "outputs": [
    {
     "data": {
      "application/vnd.jupyter.widget-view+json": {
       "model_id": "6a7eadb6ff4c4d80bdaf2d5d8f32d066",
       "version_major": 2,
       "version_minor": 0
      },
      "text/plain": [
       "interactive(children=(IntSlider(value=0, description='Beer', max=10), IntSlider(value=0, description='Wine', m…"
      ]
     },
     "metadata": {},
     "output_type": "display_data"
    }
   ],
   "source": [
    "from __future__ import print_function\n",
    "from ipywidgets import interact, interactive, fixed, interact_manual\n",
    "import ipywidgets as widgets\n",
    "from IPython.display import display,Markdown\n",
    "from decimal import Decimal\n",
    "\n",
    "def f(Beer, Wine,Weight,Gender):\n",
    "    current=round(((Beer*0.33*5*10*0.8 + Wine*0.25*12*10*0.8))/(Weight*Gender),2)\n",
    "    display(\"You have \"+str(current)+(\" promille\"))\n",
    "\n",
    "    \n",
    "    \n",
    "weightcontrol = widgets.IntSlider(min=40,max=150)\n",
    "beercontrol = widgets.IntSlider(min=0,max=10)\n",
    "winecontrol = widgets.IntSlider(min=0,max=10)\n",
    "w = interactive(f,Gender=[(\"Male\",0.6),(\"Female\",0.7)],Beer=beercontrol,Wine=winecontrol,Weight=weightcontrol)\n",
    "\n",
    "\n",
    "type(w)\n",
    "\n",
    "display(w)\n",
    "\n",
    "\n"
   ]
  },
  {
   "cell_type": "code",
   "execution_count": 33,
   "metadata": {},
   "outputs": [
    {
     "name": "stdout",
     "output_type": "stream",
     "text": [
      "If you want to know more about alkohol reduction enter your promille result\n",
      "\n",
      "Enter your promille:1\n",
      "\n",
      "1.0 Promille after 0 hours\n",
      "0.7 Promille after 1 hour\n",
      "0.49 Promille after 2 hours\n",
      "0.34 Promille after 3 hours\n",
      "0.24 Promille after 4 hours\n",
      "0.17 Promille after 5 hours\n",
      "0.12 Promille after 6 hours\n",
      "0.08 Promille after 7 hours\n",
      "0.06 Promille after 8 hours\n",
      "0.04 Promille after 9 hours\n",
      "0.03 Promille after 10 hours\n",
      "0.02 Promille after 11 hours\n",
      "\n",
      "You have 0 Promille\n",
      "\n",
      "This will be in 12 hours\n"
     ]
    }
   ],
   "source": [
    "\n",
    "print(\"If you want to know more about alkohol reduction enter your promille result\")\n",
    "print(\"\")\n",
    "alk = float(input (\"Enter your promille:\"))\n",
    "print(\"\")\n",
    "\n",
    "\n",
    "from decimal import Decimal\n",
    "\n",
    "\n",
    "\n",
    "count = 0\n",
    "while alk >=0.02 :\n",
    "    if count<1:\n",
    "        print(str(alk) + \" Promille after\",count,\"hours\")\n",
    "    elif count<2:\n",
    "        print(str(alk) + \" Promille after\",count,\"hour\")\n",
    "    else:print(str(alk) + \" Promille after\",count,\"hours\")\n",
    "    alk = round((alk*0.7),2)  \n",
    "       \n",
    "    count += 1\n",
    "    \n",
    "print(\"\")\n",
    "\n",
    "\n",
    "print(\"You now have 0 Promille.\")\n",
    "print(\"\")\n",
    "\n",
    "\n",
    "print(\"This will be in {} hours\".format(count))"
   ]
  },
  {
   "cell_type": "code",
   "execution_count": null,
   "metadata": {},
   "outputs": [],
   "source": []
  },
  {
   "cell_type": "code",
   "execution_count": null,
   "metadata": {},
   "outputs": [],
   "source": []
  }
 ],
 "metadata": {
  "kernelspec": {
   "display_name": "Python 3",
   "language": "python",
   "name": "python3"
  },
  "language_info": {
   "codemirror_mode": {
    "name": "ipython",
    "version": 3
   },
   "file_extension": ".py",
   "mimetype": "text/x-python",
   "name": "python",
   "nbconvert_exporter": "python",
   "pygments_lexer": "ipython3",
   "version": "3.7.8"
  }
 },
 "nbformat": 4,
 "nbformat_minor": 4
}
